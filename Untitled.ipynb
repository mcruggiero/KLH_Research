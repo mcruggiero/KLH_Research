{
 "cells": [
  {
   "cell_type": "code",
   "execution_count": 14,
   "metadata": {
    "ExecuteTime": {
     "end_time": "2021-03-05T19:32:23.415121Z",
     "start_time": "2021-03-05T19:32:23.404634Z"
    }
   },
   "outputs": [
    {
     "name": "stdout",
     "output_type": "stream",
     "text": [
      "number of white is 0.06\n",
      "number of red is 0.075\n",
      "number of green is 0.15\n",
      "number of black is 0.45\n",
      "number of purple is 5.4\n",
      "number of blue is 7.2\n"
     ]
    },
    {
     "data": {
      "text/plain": [
       "15.735"
      ]
     },
     "execution_count": 14,
     "metadata": {},
     "output_type": "execute_result"
    }
   ],
   "source": [
    "def chip_counter(white, red, green, black, purple, blue):\n",
    "    casen_count = \"number of {} is {}\"\n",
    "    print(casen_count.format(\"white\", 1.5*white/100))\n",
    "    print(casen_count.format(\"red\", 1.5*5*red/100))\n",
    "    print(casen_count.format(\"green\", 1.5*10*green/100))\n",
    "    print(casen_count.format(\"black\", 1.5*30*black/100))\n",
    "    print(casen_count.format(\"purple\", 1.5*4*30*purple/100))\n",
    "    print(casen_count.format(\"blue\", 1.5*4*4*30*blue/100))\n",
    "\n",
    "\n",
    "\n",
    "\n",
    "    return 1.5*(white + 5*red + 10*green + 30*black + 4*30*purple + 4*4*40 * blue)/100\n",
    "\n",
    "chip_counter(4, 1, 1, 1, 3, 1)"
   ]
  },
  {
   "cell_type": "code",
   "execution_count": 8,
   "metadata": {
    "ExecuteTime": {
     "end_time": "2021-03-05T19:29:48.940255Z",
     "start_time": "2021-03-05T19:29:48.926886Z"
    }
   },
   "outputs": [
    {
     "name": "stdout",
     "output_type": "stream",
     "text": [
      "number of white is 0.06\n"
     ]
    },
    {
     "data": {
      "text/plain": [
       "15.735"
      ]
     },
     "execution_count": 8,
     "metadata": {},
     "output_type": "execute_result"
    }
   ],
   "source": [
    "chip_counter(4, 1, 1, 1, 3, 1)"
   ]
  },
  {
   "cell_type": "code",
   "execution_count": 15,
   "metadata": {
    "ExecuteTime": {
     "end_time": "2021-03-05T19:33:34.847374Z",
     "start_time": "2021-03-05T19:33:34.839169Z"
    }
   },
   "outputs": [
    {
     "data": {
      "text/plain": [
       "49.0"
      ]
     },
     "execution_count": 15,
     "metadata": {},
     "output_type": "execute_result"
    }
   ],
   "source": [
    "73.5 / 1.5"
   ]
  },
  {
   "cell_type": "code",
   "execution_count": 1,
   "metadata": {
    "ExecuteTime": {
     "end_time": "2021-03-08T14:59:47.541152Z",
     "start_time": "2021-03-08T14:59:47.532457Z"
    }
   },
   "outputs": [],
   "source": [
    "def d(di, nu):\n",
    "    return nu // di, nu % di"
   ]
  },
  {
   "cell_type": "code",
   "execution_count": 62,
   "metadata": {
    "ExecuteTime": {
     "end_time": "2021-03-08T15:46:42.584919Z",
     "start_time": "2021-03-08T15:46:42.573810Z"
    }
   },
   "outputs": [
    {
     "data": {
      "text/plain": [
       "(8, 6)"
      ]
     },
     "execution_count": 62,
     "metadata": {},
     "output_type": "execute_result"
    }
   ],
   "source": [
    "d(43,350)"
   ]
  },
  {
   "cell_type": "code",
   "execution_count": 21,
   "metadata": {
    "ExecuteTime": {
     "end_time": "2021-03-08T15:15:02.007904Z",
     "start_time": "2021-03-08T15:15:01.166626Z"
    }
   },
   "outputs": [],
   "source": [
    "!jt -t solarizedd -T -N -kl"
   ]
  },
  {
   "cell_type": "code",
   "execution_count": null,
   "metadata": {},
   "outputs": [],
   "source": []
  }
 ],
 "metadata": {
  "kernelspec": {
   "display_name": "Python 3",
   "language": "python",
   "name": "python3"
  },
  "language_info": {
   "codemirror_mode": {
    "name": "ipython",
    "version": 3
   },
   "file_extension": ".py",
   "mimetype": "text/x-python",
   "name": "python",
   "nbconvert_exporter": "python",
   "pygments_lexer": "ipython3",
   "version": "3.6.10"
  },
  "toc": {
   "base_numbering": 1,
   "nav_menu": {},
   "number_sections": true,
   "sideBar": true,
   "skip_h1_title": false,
   "title_cell": "Table of Contents",
   "title_sidebar": "Contents",
   "toc_cell": false,
   "toc_position": {},
   "toc_section_display": true,
   "toc_window_display": false
  }
 },
 "nbformat": 4,
 "nbformat_minor": 4
}
