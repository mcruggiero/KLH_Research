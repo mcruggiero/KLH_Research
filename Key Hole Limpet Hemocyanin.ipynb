{
 "cells": [
  {
   "cell_type": "markdown",
   "metadata": {
    "toc": true
   },
   "source": [
    "<h1>Table of Contents<span class=\"tocSkip\"></span></h1>\n",
    "<div class=\"toc\"><ul class=\"toc-item\"><li><span><a href=\"#Libraries-Used\" data-toc-modified-id=\"Libraries-Used-1\">Libraries Used</a></span></li><li><span><a href=\"#Specific-Aims\" data-toc-modified-id=\"Specific-Aims-2\">Specific Aims</a></span></li><li><span><a href=\"#Research\" data-toc-modified-id=\"Research-3\">Research</a></span></li><li><span><a href=\"#Methods\" data-toc-modified-id=\"Methods-4\">Methods</a></span><ul class=\"toc-item\"><li><span><a href=\"#Structure-of-KLH\" data-toc-modified-id=\"Structure-of-KLH-4.1\">Structure of KLH</a></span><ul class=\"toc-item\"><li><span><a href=\"#Load-Information\" data-toc-modified-id=\"Load-Information-4.1.1\">Load Information</a></span></li><li><span><a href=\"#Check-data-image\" data-toc-modified-id=\"Check-data-image-4.1.2\">Check data image</a></span></li><li><span><a href=\"#Information-about-4BED\" data-toc-modified-id=\"Information-about-4BED-4.1.3\">Information about 4BED</a></span></li><li><span><a href=\"#Atom-by-atom-distance-matrix\" data-toc-modified-id=\"Atom-by-atom-distance-matrix-4.1.4\">Atom by atom distance matrix</a></span></li><li><span><a href=\"#Alpha-distance-calculator-for-protein-dictionaries\" data-toc-modified-id=\"Alpha-distance-calculator-for-protein-dictionaries-4.1.5\">Alpha distance calculator for protein dictionaries</a></span></li><li><span><a href=\"#Protein-dictionary-distance-matrix\" data-toc-modified-id=\"Protein-dictionary-distance-matrix-4.1.6\">Protein dictionary distance matrix</a></span></li><li><span><a href=\"#Save-Distance-matrix-for-latter\" data-toc-modified-id=\"Save-Distance-matrix-for-latter-4.1.7\">Save Distance matrix for latter</a></span></li><li><span><a href=\"#Plot-Distance-Matrix\" data-toc-modified-id=\"Plot-Distance-Matrix-4.1.8\">Plot Distance Matrix</a></span></li><li><span><a href=\"#Construct-Amino-Acid-Distance-Matrix\" data-toc-modified-id=\"Construct-Amino-Acid-Distance-Matrix-4.1.9\">Construct Amino Acid Distance Matrix</a></span></li></ul></li></ul></li><li><span><a href=\"#Citations\" data-toc-modified-id=\"Citations-5\">Citations</a></span></li></ul></div>"
   ]
  },
  {
   "cell_type": "markdown",
   "metadata": {},
   "source": [
    "# An Investigation of Keyhole Limpet Hemocyanin"
   ]
  },
  {
   "cell_type": "markdown",
   "metadata": {},
   "source": [
    "<img src=\"images/klh.JPG\"><br>"
   ]
  },
  {
   "cell_type": "markdown",
   "metadata": {
    "ExecuteTime": {
     "end_time": "2021-02-28T17:36:19.281454Z",
     "start_time": "2021-02-28T17:36:19.276045Z"
    }
   },
   "source": [
    "## Libraries Used"
   ]
  },
  {
   "cell_type": "code",
   "execution_count": 1,
   "metadata": {
    "ExecuteTime": {
     "end_time": "2021-03-01T01:51:24.291724Z",
     "start_time": "2021-03-01T01:50:54.345959Z"
    }
   },
   "outputs": [
    {
     "data": {
      "application/vnd.jupyter.widget-view+json": {
       "model_id": "b2db5e0d0920429f82a3ebcd69e54ff6",
       "version_major": 2,
       "version_minor": 0
      },
      "text/plain": []
     },
     "metadata": {},
     "output_type": "display_data"
    }
   ],
   "source": [
    "# Basic Libraries\n",
    "from random import choices, randint\n",
    "from collections import Counter, defaultdict\n",
    "import re\n",
    "from glob import glob\n",
    "import itertools\n",
    "import pickle\n",
    "import json\n",
    "\n",
    "# Data Science\n",
    "import pandas as pd\n",
    "import numpy as np\n",
    "from scipy.spatial.distance import pdist, squareform\n",
    "from fastcluster import linkage\n",
    "\n",
    "# Calculate distance between strings\n",
    "from Levenshtein import distance as l_dist\n",
    "\n",
    "# Visulization Libraries\n",
    "import pylab\n",
    "import matplotlib.pyplot as plt\n",
    "import matplotlib.image as mpimg\n",
    "import seaborn as sns\n",
    "from IPython.display import Video, HTML\n",
    "\n",
    "import pytraj as pt\n",
    "import nglview as nv\n",
    "from mpl_toolkits import mplot3d\n",
    "\n",
    "# Biopython libraries\n",
    "import Bio\n",
    "from Bio import AlignIO, SeqIO, pairwise2, Phylo, Entrez\n",
    "from Bio.Seq import Seq\n",
    "from Bio.pairwise2 import format_alignment\n",
    "from Bio.PDB import *\n",
    "from Bio.Blast import NCBIWWW, NCBIXML\n",
    "from Bio.Align.Applications import ClustalwCommandline\n",
    "\n",
    "# Web Crawlers \n",
    "import requests\n",
    "import subprocess\n",
    "Entrez.email = \"mcruggs@gmail.com\""
   ]
  },
  {
   "cell_type": "code",
   "execution_count": 2,
   "metadata": {
    "ExecuteTime": {
     "end_time": "2021-03-01T01:51:39.968956Z",
     "start_time": "2021-03-01T01:51:39.966786Z"
    }
   },
   "outputs": [],
   "source": [
    "import warnings"
   ]
  },
  {
   "cell_type": "markdown",
   "metadata": {},
   "source": [
    "## Specific Aims"
   ]
  },
  {
   "cell_type": "markdown",
   "metadata": {},
   "source": [
    "Hemocyanin is the copper-containing, main oxygen carrying protein commonly used in the blood of arthropods, mollusks, and some other invertebrates. Hemocyanin is of interest in biomedical research because of its use as an adjuvant in vaccine development. Unfortunately, current production of hemocyanin as an adjuvant is extremely expensive with the harvesting process requiring blood from the limpet Megathura crenulata. Key-Hole Limpet hemocyanin (KLH) is challenging to produce with recombinant techniques due to the large size of the protein. The cost of extraction ranges between five thousand to one hundred and fifty thousand dollars per gram of KLH. <br><br>\n",
    "Due to the increased demand, vaccine adjuvants may present as a bottleneck for future vaccine development. Recombinant KLH that has been produced with E. coli, however, is not used for general medical practice due to unsuitable purity. While the structure of KLH has been resolved to 9Å Angstroms, with its functional unit resolved to 4Å, potential alternative hemocyanin sources to this protein have not been determined with imaging techniques such as Cryo-EM or X-ray crystallography.  <br><br>\n",
    "The goal of this work will be two-fold.  First, this work aims to understand the significance of adjuvants in relation to KLH, exploring the properties of its medicinal use and tradeoffs to alternative adjuvants. Second, this work aims to explore the structure of KLH using computational and bioinformatic techniques in conjunction with analysis found in literature, highlighting potential alternatives to this important protein. \n"
   ]
  },
  {
   "cell_type": "markdown",
   "metadata": {},
   "source": [
    "## Research"
   ]
  },
  {
   "cell_type": "markdown",
   "metadata": {},
   "source": [
    "## Methods"
   ]
  },
  {
   "cell_type": "markdown",
   "metadata": {},
   "source": [
    "### Structure of KLH"
   ]
  },
  {
   "cell_type": "markdown",
   "metadata": {},
   "source": [
    "Using ChimeraX the structure of KLH will be modeled. Subunits of the protein will be highlighted. Biochemistry of the amino acids will be considered and a distance matrix will be constructed. Copper chemistry and activity of the active sites will also be conducted. The focus will be on understanding the tertiary structure of each KLH subunit."
   ]
  },
  {
   "cell_type": "markdown",
   "metadata": {},
   "source": [
    "#### Load Information"
   ]
  },
  {
   "cell_type": "code",
   "execution_count": 3,
   "metadata": {
    "ExecuteTime": {
     "end_time": "2021-03-01T01:52:00.211312Z",
     "start_time": "2021-03-01T01:51:51.368297Z"
    }
   },
   "outputs": [],
   "source": [
    "warnings.filterwarnings('ignore')\n",
    "\n",
    "pdb_code = \"4BED\"\n",
    "pdb_filename = \"data/4bed.pdb1\"\n",
    "\n",
    "key_hole = Bio.PDB.PDBParser().get_structure(pdb_code, pdb_filename)\n",
    "key_hole_atoms = [i for i in key_hole.get_atoms()]"
   ]
  },
  {
   "cell_type": "markdown",
   "metadata": {
    "ExecuteTime": {
     "end_time": "2021-02-28T21:29:44.133629Z",
     "start_time": "2021-02-28T21:29:44.108921Z"
    }
   },
   "source": [
    "First we check to see if the length of the 4BED protein is correct"
   ]
  },
  {
   "cell_type": "code",
   "execution_count": 4,
   "metadata": {
    "ExecuteTime": {
     "end_time": "2021-02-28T23:38:08.159231Z",
     "start_time": "2021-02-28T23:38:08.151370Z"
    }
   },
   "outputs": [
    {
     "data": {
      "text/plain": [
       "552920"
      ]
     },
     "execution_count": 4,
     "metadata": {},
     "output_type": "execute_result"
    }
   ],
   "source": [
    "len(key_hole_atoms)"
   ]
  },
  {
   "cell_type": "markdown",
   "metadata": {},
   "source": [
    "Next we create a dictionary of all of the different atoms, distances, etc"
   ]
  },
  {
   "cell_type": "code",
   "execution_count": 33,
   "metadata": {
    "ExecuteTime": {
     "end_time": "2021-03-01T00:25:27.501703Z",
     "start_time": "2021-03-01T00:25:24.471209Z"
    }
   },
   "outputs": [],
   "source": [
    "klh_atom_dictionary = {}\n",
    "klh_location = []\n",
    "for atom in key_hole_atoms:\n",
    "    klh_atom_dictionary[atom.serial_number - 1] = {\n",
    "        \"atom_name\": atom.name,\n",
    "        \"element\": atom.element,\n",
    "        \"amino_group\": atom.parent.resname,\n",
    "        \"amino_index\": atom.parent.id[1] - 1,\n",
    "        \"sub_unit\": atom.parent.parent.id,\n",
    "        \"np_coord\": atom.coord,\n",
    "        \"coord\": [atom.coord[0], atom.coord[1], atom.coord[2]]\n",
    "    }\n",
    "    # This is just too big to try and solve directly\n",
    "    klh_location.append([atom.coord[0], atom.coord[1], atom.coord[2]])"
   ]
  },
  {
   "cell_type": "code",
   "execution_count": 34,
   "metadata": {
    "ExecuteTime": {
     "end_time": "2021-03-01T00:25:29.255781Z",
     "start_time": "2021-03-01T00:25:29.088741Z"
    }
   },
   "outputs": [],
   "source": [
    "x = [i[0] for i in klh_location]\n",
    "y = [i[1] for i in klh_location]\n",
    "z = [i[2] for i in klh_location]"
   ]
  },
  {
   "cell_type": "markdown",
   "metadata": {},
   "source": [
    "#### Check data image"
   ]
  },
  {
   "cell_type": "code",
   "execution_count": 35,
   "metadata": {
    "ExecuteTime": {
     "end_time": "2021-03-01T00:25:36.167092Z",
     "start_time": "2021-03-01T00:25:30.576010Z"
    }
   },
   "outputs": [
    {
     "data": {
      "image/png": "[encoded data removed]",
      "text/plain": [
       "<Figure size 720x720 with 1 Axes>"
      ]
     },
     "metadata": {
      "needs_background": "light"
     },
     "output_type": "display_data"
    }
   ],
   "source": [
    "fig, ax = plt.subplots(figsize=(10, 10))\n",
    "ax = plt.axes(projection='3d')\n",
    "ax.view_init(90, 0) \n",
    "ax.scatter(x, y, z, c=z, cmap='viridis', linewidth=0.5);"
   ]
  },
  {
   "cell_type": "markdown",
   "metadata": {},
   "source": [
    "#### Information about 4BED"
   ]
  },
  {
   "cell_type": "markdown",
   "metadata": {},
   "source": [
    "Test find indices of copper atoms in KHL"
   ]
  },
  {
   "cell_type": "code",
   "execution_count": 11,
   "metadata": {
    "ExecuteTime": {
     "end_time": "2021-02-28T23:39:46.828646Z",
     "start_time": "2021-02-28T23:39:46.788213Z"
    }
   },
   "outputs": [
    {
     "name": "stdout",
     "output_type": "stream",
     "text": [
      "[55232, 55233, 55236, 55237, 55240, 55241, 55244, 55245, 55248, 55249, 55252, 55253, 55256, 55257, 55260, 55261, 55264, 55265, 55268, 55269, 55272, 55273, 55276, 55277, 55280, 55281, 55284, 55285, 55288, 55289, 55292, 55293]\n"
     ]
    }
   ],
   "source": [
    "copper_indices = []\n",
    "for atom in klh_atom_dictionary:\n",
    "    a = klh_atom_dictionary[atom]\n",
    "    if a[\"element\"] == \"CU\":\n",
    "        copper_indices.append(atom)\n",
    "        \n",
    "print(copper_indices)"
   ]
  },
  {
   "cell_type": "code",
   "execution_count": 41,
   "metadata": {
    "ExecuteTime": {
     "end_time": "2021-03-01T00:30:18.789021Z",
     "start_time": "2021-03-01T00:30:18.777364Z"
    }
   },
   "outputs": [
    {
     "data": {
      "text/plain": [
       "{'atom_name': 'CA',\n",
       " 'element': 'C',\n",
       " 'amino_group': 'GLU',\n",
       " 'amino_index': 0,\n",
       " 'sub_unit': 'A',\n",
       " 'np_coord': array([  -1.432, -134.101, -170.128], dtype=float32),\n",
       " 'coord': [-1.432, -134.101, -170.128]}"
      ]
     },
     "execution_count": 41,
     "metadata": {},
     "output_type": "execute_result"
    }
   ],
   "source": [
    "klh_atom_dictionary[1]"
   ]
  },
  {
   "cell_type": "code",
   "execution_count": 42,
   "metadata": {
    "ExecuteTime": {
     "end_time": "2021-03-01T00:30:19.877171Z",
     "start_time": "2021-03-01T00:30:19.870802Z"
    }
   },
   "outputs": [
    {
     "data": {
      "text/plain": [
       "{'atom_name': 'CU2',\n",
       " 'element': 'CU',\n",
       " 'amino_group': 'CUO',\n",
       " 'amino_index': 9007,\n",
       " 'sub_unit': 'D',\n",
       " 'np_coord': array([  74.077,  -40.231, -160.703], dtype=float32),\n",
       " 'coord': [74.077, -40.231, -160.703]}"
      ]
     },
     "execution_count": 42,
     "metadata": {},
     "output_type": "execute_result"
    }
   ],
   "source": [
    "klh_atom_dictionary[55293]"
   ]
  },
  {
   "cell_type": "markdown",
   "metadata": {},
   "source": [
    "#### Atom by atom distance matrix"
   ]
  },
  {
   "cell_type": "markdown",
   "metadata": {},
   "source": [
    "Since there are so many atom in the total KLH, we will not be able to make a complete distance matrix for every matrix, however we can make a distance matrix for each subunit."
   ]
  },
  {
   "cell_type": "code",
   "execution_count": 39,
   "metadata": {
    "ExecuteTime": {
     "end_time": "2021-03-01T00:27:23.726003Z",
     "start_time": "2021-03-01T00:27:23.700778Z"
    }
   },
   "outputs": [],
   "source": [
    "klh_alpha_carbons ={k:v for k,v in klh_atom_dictionary.items() \n",
    "                                if v[\"atom_name\"] == \"CA\" or v[\"element\"] == \"CU\"}"
   ]
  },
  {
   "cell_type": "code",
   "execution_count": 40,
   "metadata": {
    "ExecuteTime": {
     "end_time": "2021-03-01T00:27:24.692220Z",
     "start_time": "2021-03-01T00:27:24.682912Z"
    }
   },
   "outputs": [
    {
     "data": {
      "text/plain": [
       "6828"
      ]
     },
     "execution_count": 40,
     "metadata": {},
     "output_type": "execute_result"
    }
   ],
   "source": [
    "len(klh_alpha_carbons)"
   ]
  },
  {
   "cell_type": "markdown",
   "metadata": {},
   "source": [
    "#### Alpha distance calculator for protein dictionaries"
   ]
  },
  {
   "cell_type": "code",
   "execution_count": 54,
   "metadata": {
    "ExecuteTime": {
     "end_time": "2021-03-01T00:35:34.770947Z",
     "start_time": "2021-03-01T00:35:34.767043Z"
    }
   },
   "outputs": [],
   "source": [
    "# Modified from code at https://warwick.ac.uk/fac/sci/moac/people/students/peter_cock/python/protein_contact_map/\n",
    "def calc_alpha_distance(r_1, r_2, p_dict):\n",
    "    \"\"\"Take key values from protein dict and calcualtes distance\"\"\"\n",
    "    diff_vect = p_dict[r_1][\"np_coord\"] - p_dict[r_2][\"np_coord\"]\n",
    "    return np.sqrt(np.sum(diff_vect * diff_vect))"
   ]
  },
  {
   "cell_type": "code",
   "execution_count": 55,
   "metadata": {
    "ExecuteTime": {
     "end_time": "2021-03-01T00:35:35.287116Z",
     "start_time": "2021-03-01T00:35:35.279095Z"
    }
   },
   "outputs": [
    {
     "data": {
      "text/plain": [
       "{'atom_name': 'CA',\n",
       " 'element': 'C',\n",
       " 'amino_group': 'GLU',\n",
       " 'amino_index': 0,\n",
       " 'sub_unit': 'A',\n",
       " 'np_coord': array([  -1.432, -134.101, -170.128], dtype=float32),\n",
       " 'coord': [-1.432, -134.101, -170.128]}"
      ]
     },
     "execution_count": 55,
     "metadata": {},
     "output_type": "execute_result"
    }
   ],
   "source": [
    "klh_alpha_carbons[1]"
   ]
  },
  {
   "cell_type": "code",
   "execution_count": 56,
   "metadata": {
    "ExecuteTime": {
     "end_time": "2021-03-01T00:35:35.596759Z",
     "start_time": "2021-03-01T00:35:35.582918Z"
    }
   },
   "outputs": [
    {
     "data": {
      "text/plain": [
       "{'atom_name': 'CA',\n",
       " 'element': 'C',\n",
       " 'amino_group': 'GLU',\n",
       " 'amino_index': 13,\n",
       " 'sub_unit': 'A',\n",
       " 'np_coord': array([ -16.857, -128.752, -159.343], dtype=float32),\n",
       " 'coord': [-16.857, -128.752, -159.343]}"
      ]
     },
     "execution_count": 56,
     "metadata": {},
     "output_type": "execute_result"
    }
   ],
   "source": [
    "klh_alpha_carbons[109]"
   ]
  },
  {
   "cell_type": "code",
   "execution_count": 57,
   "metadata": {
    "ExecuteTime": {
     "end_time": "2021-03-01T00:35:36.294903Z",
     "start_time": "2021-03-01T00:35:36.283720Z"
    }
   },
   "outputs": [
    {
     "data": {
      "text/plain": [
       "19.566776"
      ]
     },
     "execution_count": 57,
     "metadata": {},
     "output_type": "execute_result"
    }
   ],
   "source": [
    "calc_alpha_distance(1, 109, klh_alpha_carbons)"
   ]
  },
  {
   "cell_type": "code",
   "execution_count": 62,
   "metadata": {
    "ExecuteTime": {
     "end_time": "2021-03-01T00:55:03.467284Z",
     "start_time": "2021-03-01T00:55:03.453743Z"
    }
   },
   "outputs": [
    {
     "data": {
      "text/plain": [
       "[[0, 1], [1, 10], [2, 18]]"
      ]
     },
     "execution_count": 62,
     "metadata": {},
     "output_type": "execute_result"
    }
   ],
   "source": [
    "[[i,j] for i,j in enumerate(klh_alpha_carbons.keys())][0:3]"
   ]
  },
  {
   "cell_type": "markdown",
   "metadata": {},
   "source": [
    "#### Protein dictionary distance matrix"
   ]
  },
  {
   "cell_type": "code",
   "execution_count": 83,
   "metadata": {
    "ExecuteTime": {
     "end_time": "2021-03-01T01:04:15.200529Z",
     "start_time": "2021-03-01T01:04:15.191893Z"
    }
   },
   "outputs": [],
   "source": [
    "def calc_dist_matrix(p_dict):\n",
    "    \"\"\"Returns a numpy matrix for all key entries in a protein dictionary\"\"\"\n",
    "    matrix = np.zeros((len(p_dict), len(p_dict)), np.float)\n",
    "    for row, i in enumerate(p_dict.keys()):\n",
    "        for column, j in enumerate(p_dict.keys()):\n",
    "            matrix[row, column] = calc_alpha_distance(i, j, p_dict)\n",
    "            if row % 500 == 0 and column == 0:\n",
    "                print(\"Procesing row #{}\".format(row))\n",
    "            \n",
    "    return matrix"
   ]
  },
  {
   "cell_type": "code",
   "execution_count": 93,
   "metadata": {
    "ExecuteTime": {
     "end_time": "2021-03-01T01:15:52.267275Z",
     "start_time": "2021-03-01T01:15:52.265222Z"
    }
   },
   "outputs": [],
   "source": [
    "alpha_distance_matrix = calc_dist_matrix(klh_alpha_carbons)"
   ]
  },
  {
   "cell_type": "markdown",
   "metadata": {},
   "source": [
    "#### Save Distance matrix for latter"
   ]
  },
  {
   "cell_type": "code",
   "execution_count": 85,
   "metadata": {
    "ExecuteTime": {
     "end_time": "2021-03-01T01:09:33.886549Z",
     "start_time": "2021-03-01T01:09:33.382400Z"
    }
   },
   "outputs": [],
   "source": [
    "with open('data/distance_matrix.pickle', 'wb') as handle:\n",
    "    pickle.dump(alpha_distance_matrix, handle, protocol=pickle.HIGHEST_PROTOCOL)"
   ]
  },
  {
   "cell_type": "markdown",
   "metadata": {},
   "source": [
    "#### Plot Distance Matrix"
   ]
  },
  {
   "cell_type": "code",
   "execution_count": 95,
   "metadata": {
    "ExecuteTime": {
     "end_time": "2021-03-01T01:18:06.414687Z",
     "start_time": "2021-03-01T01:18:06.411651Z"
    }
   },
   "outputs": [
    {
     "data": {
      "text/plain": [
       "array([[  0.        ,   3.75266671,   6.29493475, ..., 173.45292664,\n",
       "        118.81137085, 120.83880615]])"
      ]
     },
     "execution_count": 95,
     "metadata": {},
     "output_type": "execute_result"
    }
   ],
   "source": [
    "alpha_distance_matrix[0:1]"
   ]
  },
  {
   "cell_type": "code",
   "execution_count": null,
   "metadata": {
    "ExecuteTime": {
     "start_time": "2021-03-01T01:24:58.857Z"
    }
   },
   "outputs": [],
   "source": [
    "N = len(alpha_distance_matrix)\n",
    "dist_mat = squareform(pdist(alpha_distance_matrix))\n",
    "\n",
    "plt.pcolormesh(np.transpose(dist_mat))\n",
    "plt.colorbar()\n",
    "plt.xlim([0,N])\n",
    "plt.ylim([0,N])\n",
    "plt.figure(figsize=(10,10), dpi = 200);\n",
    "plt.show();"
   ]
  },
  {
   "cell_type": "code",
   "execution_count": 99,
   "metadata": {
    "ExecuteTime": {
     "end_time": "2021-03-01T01:22:13.723522Z",
     "start_time": "2021-03-01T01:22:13.714411Z"
    }
   },
   "outputs": [],
   "source": [
    "def seriation(Z,N,cur_index):\n",
    "    '''\n",
    "        input:\n",
    "            - Z is a hierarchical tree (dendrogram)\n",
    "            - N is the number of points given to the clustering process\n",
    "            - cur_index is the position in the tree for the recursive traversal\n",
    "        output:\n",
    "            - order implied by the hierarchical tree Z\n",
    "            \n",
    "        seriation computes the order implied by a hierarchical tree (dendrogram)\n",
    "    '''\n",
    "    if cur_index < N:\n",
    "        return [cur_index]\n",
    "    else:\n",
    "        left = int(Z[cur_index-N,0])\n",
    "        right = int(Z[cur_index-N,1])\n",
    "        return (seriation(Z,N,left) + seriation(Z,N,right))\n",
    "    \n",
    "def compute_serial_matrix(dist_mat,method=\"ward\"):\n",
    "    '''\n",
    "        input:\n",
    "            - dist_mat is a distance matrix\n",
    "            - method = [\"ward\",\"single\",\"average\",\"complete\"]\n",
    "        output:\n",
    "            - seriated_dist is the input dist_mat,\n",
    "              but with re-ordered rows and columns\n",
    "              according to the seriation, i.e. the\n",
    "              order implied by the hierarchical tree\n",
    "            - res_order is the order implied by\n",
    "              the hierarhical tree\n",
    "            - res_linkage is the hierarhical tree (dendrogram)\n",
    "        \n",
    "        compute_serial_matrix transforms a distance matrix into \n",
    "        a sorted distance matrix according to the order implied \n",
    "        by the hierarchical tree (dendrogram)\n",
    "    '''\n",
    "    N = len(dist_mat)\n",
    "    flat_dist_mat = squareform(dist_mat)\n",
    "    res_linkage = linkage(flat_dist_mat, method=method,preserve_input=True)\n",
    "    res_order = seriation(res_linkage, N, N + N-2)\n",
    "    seriated_dist = np.zeros((N,N))\n",
    "    a,b = np.triu_indices(N,k=1)\n",
    "    seriated_dist[a,b] = dist_mat[ [res_order[i] for i in a], [res_order[j] for j in b]]\n",
    "    seriated_dist[b,a] = seriated_dist[a,b]\n",
    "    \n",
    "    return seriated_dist, res_order, res_linkage"
   ]
  },
  {
   "cell_type": "code",
   "execution_count": null,
   "metadata": {},
   "outputs": [],
   "source": [
    "methods = [\"ward\",\"single\",\"average\",\"complete\"]\n",
    "for method in methods:\n",
    "    print(\"Method:\\t\",method)\n",
    "    \n",
    "    ordered_dist_mat, res_order, res_linkage = compute_serial_matrix(dist_mat,method)\n",
    "    \n",
    "    plt.pcolormesh(ordered_dist_mat)\n",
    "    plt.xlim([0,N])\n",
    "    plt.ylim([0,N])\n",
    "    plt.show()"
   ]
  },
  {
   "cell_type": "markdown",
   "metadata": {},
   "source": [
    "#### Construct Amino Acid Distance Matrix"
   ]
  },
  {
   "cell_type": "code",
   "execution_count": 149,
   "metadata": {
    "ExecuteTime": {
     "end_time": "2021-02-28T22:53:07.845781Z",
     "start_time": "2021-02-28T22:53:06.466267Z"
    }
   },
   "outputs": [
    {
     "ename": "MemoryError",
     "evalue": "Unable to allocate 1.11 TiB for an array with shape (152859986740,) and data type float64",
     "output_type": "error",
     "traceback": [
      "\u001b[0;31m---------------------------------------------------------------------------\u001b[0m",
      "\u001b[0;31mMemoryError\u001b[0m                               Traceback (most recent call last)",
      "\u001b[0;32m<ipython-input-149-0a826d7fe516>\u001b[0m in \u001b[0;36m<module>\u001b[0;34m\u001b[0m\n\u001b[0;32m----> 1\u001b[0;31m \u001b[0msquareform\u001b[0m\u001b[0;34m(\u001b[0m\u001b[0mpdist\u001b[0m\u001b[0;34m(\u001b[0m\u001b[0mnp\u001b[0m\u001b[0;34m.\u001b[0m\u001b[0marray\u001b[0m\u001b[0;34m(\u001b[0m\u001b[0mklh_location\u001b[0m\u001b[0;34m)\u001b[0m\u001b[0;34m)\u001b[0m\u001b[0;34m)\u001b[0m\u001b[0;34m\u001b[0m\u001b[0;34m\u001b[0m\u001b[0m\n\u001b[0m",
      "\u001b[0;32m~/anaconda3/envs/py36/lib/python3.6/site-packages/scipy/spatial/distance.py\u001b[0m in \u001b[0;36mpdist\u001b[0;34m(X, metric, *args, **kwargs)\u001b[0m\n\u001b[1;32m   1992\u001b[0m     \u001b[0mout\u001b[0m \u001b[0;34m=\u001b[0m \u001b[0mkwargs\u001b[0m\u001b[0;34m.\u001b[0m\u001b[0mpop\u001b[0m\u001b[0;34m(\u001b[0m\u001b[0;34m\"out\"\u001b[0m\u001b[0;34m,\u001b[0m \u001b[0;32mNone\u001b[0m\u001b[0;34m)\u001b[0m\u001b[0;34m\u001b[0m\u001b[0;34m\u001b[0m\u001b[0m\n\u001b[1;32m   1993\u001b[0m     \u001b[0;32mif\u001b[0m \u001b[0mout\u001b[0m \u001b[0;32mis\u001b[0m \u001b[0;32mNone\u001b[0m\u001b[0;34m:\u001b[0m\u001b[0;34m\u001b[0m\u001b[0;34m\u001b[0m\u001b[0m\n\u001b[0;32m-> 1994\u001b[0;31m         \u001b[0mdm\u001b[0m \u001b[0;34m=\u001b[0m \u001b[0mnp\u001b[0m\u001b[0;34m.\u001b[0m\u001b[0mempty\u001b[0m\u001b[0;34m(\u001b[0m\u001b[0;34m(\u001b[0m\u001b[0mm\u001b[0m \u001b[0;34m*\u001b[0m \u001b[0;34m(\u001b[0m\u001b[0mm\u001b[0m \u001b[0;34m-\u001b[0m \u001b[0;36m1\u001b[0m\u001b[0;34m)\u001b[0m\u001b[0;34m)\u001b[0m \u001b[0;34m//\u001b[0m \u001b[0;36m2\u001b[0m\u001b[0;34m,\u001b[0m \u001b[0mdtype\u001b[0m\u001b[0;34m=\u001b[0m\u001b[0mnp\u001b[0m\u001b[0;34m.\u001b[0m\u001b[0mdouble\u001b[0m\u001b[0;34m)\u001b[0m\u001b[0;34m\u001b[0m\u001b[0;34m\u001b[0m\u001b[0m\n\u001b[0m\u001b[1;32m   1995\u001b[0m     \u001b[0;32melse\u001b[0m\u001b[0;34m:\u001b[0m\u001b[0;34m\u001b[0m\u001b[0;34m\u001b[0m\u001b[0m\n\u001b[1;32m   1996\u001b[0m         \u001b[0;32mif\u001b[0m \u001b[0mout\u001b[0m\u001b[0;34m.\u001b[0m\u001b[0mshape\u001b[0m \u001b[0;34m!=\u001b[0m \u001b[0;34m(\u001b[0m\u001b[0mm\u001b[0m \u001b[0;34m*\u001b[0m \u001b[0;34m(\u001b[0m\u001b[0mm\u001b[0m \u001b[0;34m-\u001b[0m \u001b[0;36m1\u001b[0m\u001b[0;34m)\u001b[0m \u001b[0;34m//\u001b[0m \u001b[0;36m2\u001b[0m\u001b[0;34m,\u001b[0m\u001b[0;34m)\u001b[0m\u001b[0;34m:\u001b[0m\u001b[0;34m\u001b[0m\u001b[0;34m\u001b[0m\u001b[0m\n",
      "\u001b[0;31mMemoryError\u001b[0m: Unable to allocate 1.11 TiB for an array with shape (152859986740,) and data type float64"
     ]
    }
   ],
   "source": [
    "amino_distance = {}\n",
    "amino_count = -1\n",
    "for index in klh_atom_dictionary:\n",
    "    atom = klh_atom_dictionary[index]\n",
    "    amino = atom[\"amino_index\"]\n",
    "    \n",
    "    # We will look at copper later\n",
    "    if amino != amino_count and atom[\"amino_group\"] != \"CUO\":\n",
    "        "
   ]
  },
  {
   "cell_type": "code",
   "execution_count": null,
   "metadata": {},
   "outputs": [],
   "source": []
  },
  {
   "cell_type": "code",
   "execution_count": null,
   "metadata": {},
   "outputs": [],
   "source": []
  },
  {
   "cell_type": "code",
   "execution_count": null,
   "metadata": {},
   "outputs": [],
   "source": []
  },
  {
   "cell_type": "code",
   "execution_count": null,
   "metadata": {},
   "outputs": [],
   "source": []
  },
  {
   "cell_type": "code",
   "execution_count": null,
   "metadata": {},
   "outputs": [],
   "source": []
  },
  {
   "cell_type": "code",
   "execution_count": null,
   "metadata": {},
   "outputs": [],
   "source": []
  },
  {
   "cell_type": "code",
   "execution_count": null,
   "metadata": {},
   "outputs": [],
   "source": []
  },
  {
   "cell_type": "code",
   "execution_count": null,
   "metadata": {},
   "outputs": [],
   "source": []
  },
  {
   "cell_type": "code",
   "execution_count": 140,
   "metadata": {
    "ExecuteTime": {
     "end_time": "2021-02-28T22:30:09.484167Z",
     "start_time": "2021-02-28T22:30:09.459409Z"
    }
   },
   "outputs": [
    {
     "data": {
      "text/plain": [
       "array([[5.1, 3.5, 1.4, 0.2],\n",
       "       [4.9, 3. , 1.4, 0.2],\n",
       "       [4.7, 3.2, 1.3, 0.2],\n",
       "       ...,\n",
       "       [6.5, 3. , 5.2, 2. ],\n",
       "       [6.2, 3.4, 5.4, 2.3],\n",
       "       [5.9, 3. , 5.1, 1.8]])"
      ]
     },
     "execution_count": 140,
     "metadata": {},
     "output_type": "execute_result"
    }
   ],
   "source": [
    "import numpy as np\n",
    "from scipy.spatial.distance import pdist, squareform\n",
    "from sklearn import datasets\n",
    "from fastcluster import linkage\n",
    "\n",
    "import matplotlib.pyplot as plt\n",
    "%matplotlib inline\n",
    "\n",
    "iris = datasets.load_iris()\n",
    "iris.data.shape\n",
    "\n",
    "iris.data\n"
   ]
  },
  {
   "cell_type": "code",
   "execution_count": 135,
   "metadata": {
    "ExecuteTime": {
     "end_time": "2021-02-28T22:28:35.698516Z",
     "start_time": "2021-02-28T22:28:35.690758Z"
    }
   },
   "outputs": [],
   "source": [
    "dist_mat = squareform(pdist(iris.data))"
   ]
  },
  {
   "cell_type": "code",
   "execution_count": 136,
   "metadata": {
    "ExecuteTime": {
     "end_time": "2021-02-28T22:28:41.991585Z",
     "start_time": "2021-02-28T22:28:41.979475Z"
    }
   },
   "outputs": [
    {
     "data": {
      "text/plain": [
       "array([[0.        , 0.53851648, 0.50990195, ..., 4.45982062, 4.65080638,\n",
       "        4.14004831],\n",
       "       [0.53851648, 0.        , 0.3       , ..., 4.49888875, 4.71805044,\n",
       "        4.15331193],\n",
       "       [0.50990195, 0.3       , 0.        , ..., 4.66154481, 4.84871117,\n",
       "        4.29883705],\n",
       "       ...,\n",
       "       [4.45982062, 4.49888875, 4.66154481, ..., 0.        , 0.6164414 ,\n",
       "        0.64031242],\n",
       "       [4.65080638, 4.71805044, 4.84871117, ..., 0.6164414 , 0.        ,\n",
       "        0.76811457],\n",
       "       [4.14004831, 4.15331193, 4.29883705, ..., 0.64031242, 0.76811457,\n",
       "        0.        ]])"
      ]
     },
     "execution_count": 136,
     "metadata": {},
     "output_type": "execute_result"
    }
   ],
   "source": [
    "dist_mat"
   ]
  },
  {
   "cell_type": "code",
   "execution_count": 134,
   "metadata": {
    "ExecuteTime": {
     "end_time": "2021-02-28T22:28:15.300844Z",
     "start_time": "2021-02-28T22:28:15.295681Z"
    }
   },
   "outputs": [
    {
     "data": {
      "text/plain": [
       "{'data': array([[5.1, 3.5, 1.4, 0.2],\n",
       "        [4.9, 3. , 1.4, 0.2],\n",
       "        [4.7, 3.2, 1.3, 0.2],\n",
       "        ...,\n",
       "        [6.5, 3. , 5.2, 2. ],\n",
       "        [6.2, 3.4, 5.4, 2.3],\n",
       "        [5.9, 3. , 5.1, 1.8]]),\n",
       " 'target': array([0, 0, 0, ..., 2, 2, 2]),\n",
       " 'frame': None,\n",
       " 'target_names': array(['setosa', 'versicolor', 'virginica'], dtype='<U10'),\n",
       " 'DESCR': '.. _iris_dataset:\\n\\nIris plants dataset\\n--------------------\\n\\n**Data Set Characteristics:**\\n\\n    :Number of Instances: 150 (50 in each of three classes)\\n    :Number of Attributes: 4 numeric, predictive attributes and the class\\n    :Attribute Information:\\n        - sepal length in cm\\n        - sepal width in cm\\n        - petal length in cm\\n        - petal width in cm\\n        - class:\\n                - Iris-Setosa\\n                - Iris-Versicolour\\n                - Iris-Virginica\\n                \\n    :Summary Statistics:\\n\\n    ============== ==== ==== ======= ===== ====================\\n                    Min  Max   Mean    SD   Class Correlation\\n    ============== ==== ==== ======= ===== ====================\\n    sepal length:   4.3  7.9   5.84   0.83    0.7826\\n    sepal width:    2.0  4.4   3.05   0.43   -0.4194\\n    petal length:   1.0  6.9   3.76   1.76    0.9490  (high!)\\n    petal width:    0.1  2.5   1.20   0.76    0.9565  (high!)\\n    ============== ==== ==== ======= ===== ====================\\n\\n    :Missing Attribute Values: None\\n    :Class Distribution: 33.3% for each of 3 classes.\\n    :Creator: R.A. Fisher\\n    :Donor: Michael Marshall (MARSHALL%PLU@io.arc.nasa.gov)\\n    :Date: July, 1988\\n\\nThe famous Iris database, first used by Sir R.A. Fisher. The dataset is taken\\nfrom Fisher\\'s paper. Note that it\\'s the same as in R, but not as in the UCI\\nMachine Learning Repository, which has two wrong data points.\\n\\nThis is perhaps the best known database to be found in the\\npattern recognition literature.  Fisher\\'s paper is a classic in the field and\\nis referenced frequently to this day.  (See Duda & Hart, for example.)  The\\ndata set contains 3 classes of 50 instances each, where each class refers to a\\ntype of iris plant.  One class is linearly separable from the other 2; the\\nlatter are NOT linearly separable from each other.\\n\\n.. topic:: References\\n\\n   - Fisher, R.A. \"The use of multiple measurements in taxonomic problems\"\\n     Annual Eugenics, 7, Part II, 179-188 (1936); also in \"Contributions to\\n     Mathematical Statistics\" (John Wiley, NY, 1950).\\n   - Duda, R.O., & Hart, P.E. (1973) Pattern Classification and Scene Analysis.\\n     (Q327.D83) John Wiley & Sons.  ISBN 0-471-22361-1.  See page 218.\\n   - Dasarathy, B.V. (1980) \"Nosing Around the Neighborhood: A New System\\n     Structure and Classification Rule for Recognition in Partially Exposed\\n     Environments\".  IEEE Transactions on Pattern Analysis and Machine\\n     Intelligence, Vol. PAMI-2, No. 1, 67-71.\\n   - Gates, G.W. (1972) \"The Reduced Nearest Neighbor Rule\".  IEEE Transactions\\n     on Information Theory, May 1972, 431-433.\\n   - See also: 1988 MLC Proceedings, 54-64.  Cheeseman et al\"s AUTOCLASS II\\n     conceptual clustering system finds 3 classes in the data.\\n   - Many, many more ...',\n",
       " 'feature_names': ['sepal length (cm)',\n",
       "  'sepal width (cm)',\n",
       "  'petal length (cm)',\n",
       "  'petal width (cm)'],\n",
       " 'filename': '/home/mruggiero/anaconda3/envs/py36/lib/python3.6/site-packages/sklearn/datasets/data/iris.csv'}"
      ]
     },
     "execution_count": 134,
     "metadata": {},
     "output_type": "execute_result"
    }
   ],
   "source": []
  },
  {
   "cell_type": "code",
   "execution_count": null,
   "metadata": {},
   "outputs": [],
   "source": []
  },
  {
   "cell_type": "code",
   "execution_count": null,
   "metadata": {},
   "outputs": [],
   "source": []
  },
  {
   "cell_type": "code",
   "execution_count": 13,
   "metadata": {
    "ExecuteTime": {
     "end_time": "2021-02-28T19:01:24.878104Z",
     "start_time": "2021-02-28T19:01:15.574932Z"
    }
   },
   "outputs": [],
   "source": [
    "def calc_residue_dist(residue_one, residue_two) :\n",
    "    \"\"\"Returns the C-alpha distance between two residues\"\"\"\n",
    "    diff_vector  = residue_one[\"CA\"].coord - residue_two[\"CA\"].coord\n",
    "    return np.sqrt(np.sum(diff_vector * diff_vector))\n",
    "\n",
    "def calc_dist_matrix(chain_one, chain_two) :\n",
    "    \"\"\"Returns a matrix of C-alpha distances between two chains\"\"\"\n",
    "    answer = np.zeros((len(chain_one), len(chain_two)), np.float)\n",
    "    for row, residue_one in enumerate(chain_one) :\n",
    "        for col, residue_two in enumerate(chain_two) :\n",
    "            answer[row, col] = calc_residue_dist(residue_one, residue_two)\n",
    "    return answer\n",
    "\n"
   ]
  },
  {
   "cell_type": "code",
   "execution_count": 14,
   "metadata": {
    "ExecuteTime": {
     "end_time": "2021-02-28T19:01:49.144473Z",
     "start_time": "2021-02-28T19:01:24.879399Z"
    }
   },
   "outputs": [],
   "source": [
    "chain = model[\"A\"]\n",
    "\n",
    "def aa_residues(chain):\n",
    "        aa_only = []\n",
    "        for i in chain:\n",
    "            if i.get_resname() in standard_aa_names:\n",
    "                aa_only.append(i)\n",
    "        return aa_only\n",
    "\n",
    "AA_1 = aa_residues(model[\"A\"])\n",
    "dist_matrix = calc_dist_matrix(AA_1, AA_1)\n",
    "\n",
    "import pylab\n",
    "pylab.matshow(np.transpose(dist_matrix))\n",
    "pylab.colorbar()\n",
    "pylab.show()"
   ]
  },
  {
   "cell_type": "code",
   "execution_count": 49,
   "metadata": {
    "ExecuteTime": {
     "end_time": "2021-02-28T18:48:50.463402Z",
     "start_time": "2021-02-28T18:48:50.458948Z"
    }
   },
   "outputs": [
    {
     "data": {
      "text/plain": [
       "array([[  0.        ,   3.75240207,   6.29492474, ..., 144.19438171,\n",
       "        144.26400757, 147.2288208 ],\n",
       "       [  3.75240207,   0.        ,   3.7541244 , ..., 140.82543945,\n",
       "        140.94047546, 143.92939758],\n",
       "       [  6.29492474,   3.7541244 ,   0.        , ..., 140.26760864,\n",
       "        140.43769836, 143.4798584 ],\n",
       "       ...,\n",
       "       [144.19438171, 140.82543945, 140.26760864, ...,   0.        ,\n",
       "          3.82226038,   6.63699579],\n",
       "       [144.26400757, 140.94047546, 140.43769836, ...,   3.82226038,\n",
       "          0.        ,   3.74222016],\n",
       "       [147.2288208 , 143.92939758, 143.4798584 , ...,   6.63699579,\n",
       "          3.74222016,   0.        ]])"
      ]
     },
     "execution_count": 49,
     "metadata": {},
     "output_type": "execute_result"
    }
   ],
   "source": [
    "dist_matrix"
   ]
  },
  {
   "cell_type": "code",
   "execution_count": 16,
   "metadata": {
    "ExecuteTime": {
     "end_time": "2021-02-28T19:01:55.676417Z",
     "start_time": "2021-02-28T19:01:55.379794Z"
    }
   },
   "outputs": [
    {
     "data": {
      "image/png": "[encoded data removed]",
      "text/plain": [
       "<Figure size 288x288 with 2 Axes>"
      ]
     },
     "metadata": {
      "needs_background": "light"
     },
     "output_type": "display_data"
    }
   ],
   "source": [
    "import pylab\n",
    "pylab.matshow(np.transpose(dist_matrix))\n",
    "pylab.colorbar()\n",
    "pylab.show()"
   ]
  },
  {
   "cell_type": "code",
   "execution_count": 28,
   "metadata": {
    "ExecuteTime": {
     "end_time": "2021-02-28T19:14:22.641943Z",
     "start_time": "2021-02-28T19:14:22.550818Z"
    }
   },
   "outputs": [],
   "source": [
    "test = [i for i in structure.get_atoms()]"
   ]
  },
  {
   "cell_type": "code",
   "execution_count": 30,
   "metadata": {
    "ExecuteTime": {
     "end_time": "2021-02-28T19:14:34.418553Z",
     "start_time": "2021-02-28T19:14:34.412564Z"
    }
   },
   "outputs": [
    {
     "data": {
      "text/plain": [
       "['__class__',\n",
       " '__delattr__',\n",
       " '__dict__',\n",
       " '__dir__',\n",
       " '__doc__',\n",
       " '__eq__',\n",
       " '__format__',\n",
       " '__ge__',\n",
       " '__getattribute__',\n",
       " '__gt__',\n",
       " '__hash__',\n",
       " '__init__',\n",
       " '__init_subclass__',\n",
       " '__le__',\n",
       " '__lt__',\n",
       " '__module__',\n",
       " '__ne__',\n",
       " '__new__',\n",
       " '__reduce__',\n",
       " '__reduce_ex__',\n",
       " '__repr__',\n",
       " '__setattr__',\n",
       " '__sizeof__',\n",
       " '__str__',\n",
       " '__sub__',\n",
       " '__subclasshook__',\n",
       " '__weakref__',\n",
       " '_assign_atom_mass',\n",
       " '_assign_element',\n",
       " '_sorting_keys',\n",
       " 'altloc',\n",
       " 'anisou_array',\n",
       " 'bfactor',\n",
       " 'coord',\n",
       " 'copy',\n",
       " 'detach_parent',\n",
       " 'disordered_flag',\n",
       " 'element',\n",
       " 'flag_disorder',\n",
       " 'full_id',\n",
       " 'fullname',\n",
       " 'get_altloc',\n",
       " 'get_anisou',\n",
       " 'get_bfactor',\n",
       " 'get_charge',\n",
       " 'get_coord',\n",
       " 'get_full_id',\n",
       " 'get_fullname',\n",
       " 'get_id',\n",
       " 'get_level',\n",
       " 'get_name',\n",
       " 'get_occupancy',\n",
       " 'get_parent',\n",
       " 'get_radius',\n",
       " 'get_serial_number',\n",
       " 'get_sigatm',\n",
       " 'get_siguij',\n",
       " 'get_vector',\n",
       " 'id',\n",
       " 'is_disordered',\n",
       " 'level',\n",
       " 'mass',\n",
       " 'name',\n",
       " 'occupancy',\n",
       " 'parent',\n",
       " 'pqr_charge',\n",
       " 'radius',\n",
       " 'serial_number',\n",
       " 'set_altloc',\n",
       " 'set_anisou',\n",
       " 'set_bfactor',\n",
       " 'set_charge',\n",
       " 'set_coord',\n",
       " 'set_occupancy',\n",
       " 'set_parent',\n",
       " 'set_radius',\n",
       " 'set_serial_number',\n",
       " 'set_sigatm',\n",
       " 'set_siguij',\n",
       " 'sigatm_array',\n",
       " 'siguij_array',\n",
       " 'transform',\n",
       " 'xtra']"
      ]
     },
     "execution_count": 30,
     "metadata": {},
     "output_type": "execute_result"
    }
   ],
   "source": [
    "dir(test[0])"
   ]
  },
  {
   "cell_type": "code",
   "execution_count": 103,
   "metadata": {
    "ExecuteTime": {
     "end_time": "2021-02-28T21:47:31.028983Z",
     "start_time": "2021-02-28T21:47:31.018362Z"
    }
   },
   "outputs": [
    {
     "name": "stdout",
     "output_type": "stream",
     "text": [
      " \n",
      "None\n",
      "GLY\n",
      "A\n",
      " \n",
      "None\n",
      "ASN\n",
      "A\n",
      " \n",
      "None\n",
      "ASN\n",
      "A\n",
      " \n",
      "None\n",
      "ASN\n",
      "A\n",
      " \n",
      "None\n",
      "ASN\n",
      "A\n"
     ]
    }
   ],
   "source": [
    "for i in test[1000:1005]:\n",
    "    print(i.altloc)\n",
    "    print(i.anisou_array)\n",
    "    print(i.parent.resname)\n",
    "    print(i.parent.parent.id)"
   ]
  },
  {
   "cell_type": "code",
   "execution_count": 87,
   "metadata": {
    "ExecuteTime": {
     "end_time": "2021-02-28T21:40:51.222047Z",
     "start_time": "2021-02-28T21:40:51.212104Z"
    }
   },
   "outputs": [
    {
     "data": {
      "text/plain": [
       "['__class__',\n",
       " '__delattr__',\n",
       " '__dict__',\n",
       " '__dir__',\n",
       " '__doc__',\n",
       " '__eq__',\n",
       " '__format__',\n",
       " '__ge__',\n",
       " '__getattribute__',\n",
       " '__gt__',\n",
       " '__hash__',\n",
       " '__init__',\n",
       " '__init_subclass__',\n",
       " '__le__',\n",
       " '__lt__',\n",
       " '__module__',\n",
       " '__ne__',\n",
       " '__new__',\n",
       " '__reduce__',\n",
       " '__reduce_ex__',\n",
       " '__repr__',\n",
       " '__setattr__',\n",
       " '__sizeof__',\n",
       " '__str__',\n",
       " '__sub__',\n",
       " '__subclasshook__',\n",
       " '__weakref__',\n",
       " '_assign_atom_mass',\n",
       " '_assign_element',\n",
       " '_sorting_keys',\n",
       " 'altloc',\n",
       " 'anisou_array',\n",
       " 'bfactor',\n",
       " 'coord',\n",
       " 'copy',\n",
       " 'detach_parent',\n",
       " 'disordered_flag',\n",
       " 'element',\n",
       " 'flag_disorder',\n",
       " 'full_id',\n",
       " 'fullname',\n",
       " 'get_altloc',\n",
       " 'get_anisou',\n",
       " 'get_bfactor',\n",
       " 'get_charge',\n",
       " 'get_coord',\n",
       " 'get_full_id',\n",
       " 'get_fullname',\n",
       " 'get_id',\n",
       " 'get_level',\n",
       " 'get_name',\n",
       " 'get_occupancy',\n",
       " 'get_parent',\n",
       " 'get_radius',\n",
       " 'get_serial_number',\n",
       " 'get_sigatm',\n",
       " 'get_siguij',\n",
       " 'get_vector',\n",
       " 'id',\n",
       " 'is_disordered',\n",
       " 'level',\n",
       " 'mass',\n",
       " 'name',\n",
       " 'occupancy',\n",
       " 'parent',\n",
       " 'pqr_charge',\n",
       " 'radius',\n",
       " 'serial_number',\n",
       " 'set_altloc',\n",
       " 'set_anisou',\n",
       " 'set_bfactor',\n",
       " 'set_charge',\n",
       " 'set_coord',\n",
       " 'set_occupancy',\n",
       " 'set_parent',\n",
       " 'set_radius',\n",
       " 'set_serial_number',\n",
       " 'set_sigatm',\n",
       " 'set_siguij',\n",
       " 'sigatm_array',\n",
       " 'siguij_array',\n",
       " 'transform',\n",
       " 'xtra']"
      ]
     },
     "execution_count": 87,
     "metadata": {},
     "output_type": "execute_result"
    }
   ],
   "source": [
    "dir(i)"
   ]
  },
  {
   "cell_type": "code",
   "execution_count": 98,
   "metadata": {
    "ExecuteTime": {
     "end_time": "2021-02-28T21:43:37.404233Z",
     "start_time": "2021-02-28T21:43:37.401384Z"
    }
   },
   "outputs": [
    {
     "data": {
      "text/plain": [
       "'O'"
      ]
     },
     "execution_count": 98,
     "metadata": {},
     "output_type": "execute_result"
    }
   ],
   "source": [
    "i.element"
   ]
  },
  {
   "cell_type": "code",
   "execution_count": 90,
   "metadata": {
    "ExecuteTime": {
     "end_time": "2021-02-28T21:41:26.159949Z",
     "start_time": "2021-02-28T21:41:26.148078Z"
    }
   },
   "outputs": [
    {
     "data": {
      "text/plain": [
       "array([142.551, -36.356, 141.937], dtype=float32)"
      ]
     },
     "execution_count": 90,
     "metadata": {},
     "output_type": "execute_result"
    }
   ],
   "source": [
    "i.coord"
   ]
  },
  {
   "cell_type": "code",
   "execution_count": null,
   "metadata": {},
   "outputs": [],
   "source": []
  },
  {
   "cell_type": "code",
   "execution_count": 28,
   "metadata": {
    "ExecuteTime": {
     "end_time": "2021-02-28T18:04:25.522711Z",
     "start_time": "2021-02-28T18:04:25.505768Z"
    }
   },
   "outputs": [],
   "source": [
    "def calc_residue_dist(residue_one, residue_two) :\n",
    "    \"\"\"Returns the C-alpha distance between two residues\"\"\"\n",
    "    diff_vector  = residue_one[\"CA\"].coord - residue_two[\"CA\"].coord\n",
    "    return numpy.sqrt(numpy.sum(diff_vector * diff_vector))\n",
    "\n",
    "def calc_dist_matrix(chain_one, chain_two) :\n",
    "    \"\"\"Returns a matrix of C-alpha distances between two chains\"\"\"\n",
    "    answer = numpy.zeros((len(chain_one), len(chain_two)), numpy.float)\n",
    "    for row, residue_one in enumerate(chain_one) :\n",
    "        for col, residue_two in enumerate(chain_two) :\n",
    "            answer[row, col] = calc_residue_dist(residue_one, residue_two)\n",
    "    return answer"
   ]
  },
  {
   "cell_type": "code",
   "execution_count": 36,
   "metadata": {
    "ExecuteTime": {
     "end_time": "2021-02-28T16:57:21.535837Z",
     "start_time": "2021-02-28T16:57:21.530212Z"
    }
   },
   "outputs": [
    {
     "data": {
      "text/plain": [
       "['__class__',\n",
       " '__contains__',\n",
       " '__delattr__',\n",
       " '__delitem__',\n",
       " '__dict__',\n",
       " '__dir__',\n",
       " '__doc__',\n",
       " '__eq__',\n",
       " '__format__',\n",
       " '__ge__',\n",
       " '__getattribute__',\n",
       " '__getitem__',\n",
       " '__gt__',\n",
       " '__hash__',\n",
       " '__init__',\n",
       " '__init_subclass__',\n",
       " '__iter__',\n",
       " '__le__',\n",
       " '__len__',\n",
       " '__lt__',\n",
       " '__module__',\n",
       " '__ne__',\n",
       " '__new__',\n",
       " '__reduce__',\n",
       " '__reduce_ex__',\n",
       " '__repr__',\n",
       " '__setattr__',\n",
       " '__sizeof__',\n",
       " '__str__',\n",
       " '__subclasshook__',\n",
       " '__weakref__',\n",
       " '_generate_full_id',\n",
       " '_id',\n",
       " '_reset_full_id',\n",
       " 'add',\n",
       " 'atom_to_internal_coordinates',\n",
       " 'child_dict',\n",
       " 'child_list',\n",
       " 'copy',\n",
       " 'detach_child',\n",
       " 'detach_parent',\n",
       " 'full_id',\n",
       " 'get_atoms',\n",
       " 'get_chains',\n",
       " 'get_full_id',\n",
       " 'get_id',\n",
       " 'get_iterator',\n",
       " 'get_level',\n",
       " 'get_list',\n",
       " 'get_models',\n",
       " 'get_parent',\n",
       " 'get_residues',\n",
       " 'has_id',\n",
       " 'header',\n",
       " 'id',\n",
       " 'insert',\n",
       " 'internal_to_atom_coordinates',\n",
       " 'level',\n",
       " 'parent',\n",
       " 'set_parent',\n",
       " 'transform',\n",
       " 'xtra']"
      ]
     },
     "execution_count": 36,
     "metadata": {},
     "output_type": "execute_result"
    }
   ],
   "source": [
    "dir(structure)"
   ]
  },
  {
   "cell_type": "code",
   "execution_count": null,
   "metadata": {},
   "outputs": [],
   "source": []
  },
  {
   "cell_type": "code",
   "execution_count": null,
   "metadata": {},
   "outputs": [],
   "source": []
  },
  {
   "cell_type": "code",
   "execution_count": null,
   "metadata": {},
   "outputs": [],
   "source": []
  },
  {
   "cell_type": "code",
   "execution_count": null,
   "metadata": {},
   "outputs": [],
   "source": []
  },
  {
   "cell_type": "markdown",
   "metadata": {},
   "source": [
    "## Citations"
   ]
  },
  {
   "cell_type": "code",
   "execution_count": null,
   "metadata": {},
   "outputs": [],
   "source": []
  },
  {
   "cell_type": "markdown",
   "metadata": {},
   "source": [
    "[[1]](https://www.wildlifetrusts.org/wildlife-explorer/marine/sea-snails-and-sea-slugs/keyhole-limpet) www.wildlifetrusts.org"
   ]
  },
  {
   "cell_type": "code",
   "execution_count": null,
   "metadata": {},
   "outputs": [],
   "source": []
  }
 ],
 "metadata": {
  "kernelspec": {
   "display_name": "Python 3",
   "language": "python",
   "name": "python3"
  },
  "language_info": {
   "codemirror_mode": {
    "name": "ipython",
    "version": 3
   },
   "file_extension": ".py",
   "mimetype": "text/x-python",
   "name": "python",
   "nbconvert_exporter": "python",
   "pygments_lexer": "ipython3",
   "version": "3.6.10"
  },
  "toc": {
   "base_numbering": 1,
   "nav_menu": {},
   "number_sections": false,
   "sideBar": false,
   "skip_h1_title": true,
   "title_cell": "Table of Contents",
   "title_sidebar": "Contents",
   "toc_cell": true,
   "toc_position": {
    "height": "calc(100% - 180px)",
    "left": "10px",
    "top": "150px",
    "width": "313.167px"
   },
   "toc_section_display": false,
   "toc_window_display": false
  }
 },
 "nbformat": 4,
 "nbformat_minor": 4
}
